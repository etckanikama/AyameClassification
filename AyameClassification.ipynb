{
  "nbformat": 4,
  "nbformat_minor": 0,
  "metadata": {
    "colab": {
      "name": "AyameClassification.ipynb",
      "provenance": [],
      "authorship_tag": "ABX9TyO071SqeCEojv44GuSpDDGE",
      "include_colab_link": true
    },
    "kernelspec": {
      "name": "python3",
      "display_name": "Python 3"
    }
  },
  "cells": [
    {
      "cell_type": "markdown",
      "metadata": {
        "id": "view-in-github",
        "colab_type": "text"
      },
      "source": [
        "<a href=\"https://colab.research.google.com/github/etckanikama/AyameClassification/blob/main/AyameClassification.ipynb\" target=\"_parent\"><img src=\"https://colab.research.google.com/assets/colab-badge.svg\" alt=\"Open In Colab\"/></a>"
      ]
    },
    {
      "cell_type": "code",
      "metadata": {
        "id": "vVpC4L9_DkAy"
      },
      "source": [
        "# GOAL：アヤメのがく片や花びら幅や長さの数値を用いてアヤメの種類を分類する\n",
        "import numpy as np\n",
        "import pandas as pd\n",
        "import matplotlib\n",
        "import matplotlib.pyplot as plt\n",
        "%matplotlib inline\n",
        "import warnings\n",
        "warnings.filterwarnings('ignore')"
      ],
      "execution_count": 2,
      "outputs": []
    },
    {
      "cell_type": "code",
      "metadata": {
        "id": "VejAT4mjKBfc"
      },
      "source": [
        "# データセットのダウンロード\n",
        "# trainとtestを分割してくれる\n",
        "# 線形svmを使うのでLinearSVC\n",
        "from sklearn.datasets import load_iris\n",
        "from sklearn.model_selection import train_test_split\n",
        "from sklearn.svm import LinearSVC"
      ],
      "execution_count": 19,
      "outputs": []
    },
    {
      "cell_type": "code",
      "metadata": {
        "id": "MRQUtaqVKCJN",
        "outputId": "91d5faa5-31b8-4e30-e09c-e33dbeaf3941",
        "colab": {
          "base_uri": "https://localhost:8080/"
        }
      },
      "source": [
        "# インスタンスを作成\n",
        "dataset = load_iris()\n",
        "# データの中身確認=数値が書かれた150x4の二次元配列\n",
        "print(\"データ\")\n",
        "print(dataset.data)\n",
        "print(dataset.data.shape)\n",
        "\n",
        "\n",
        "# 0,1,2と書かれた150x1の一次次元配列\n",
        "#0,1,2は花の種類:setosa,versicolor,virginica \n",
        "print(\"予測するデータ\")\n",
        "print(dataset.target)\n",
        "print(dataset.target.shape)\n",
        "print(dataset.target_names)\n"
      ],
      "execution_count": 9,
      "outputs": [
        {
          "output_type": "stream",
          "text": [
            "予測するデータ\n",
            "[0 0 0 0 0 0 0 0 0 0 0 0 0 0 0 0 0 0 0 0 0 0 0 0 0 0 0 0 0 0 0 0 0 0 0 0 0\n",
            " 0 0 0 0 0 0 0 0 0 0 0 0 0 1 1 1 1 1 1 1 1 1 1 1 1 1 1 1 1 1 1 1 1 1 1 1 1\n",
            " 1 1 1 1 1 1 1 1 1 1 1 1 1 1 1 1 1 1 1 1 1 1 1 1 1 1 2 2 2 2 2 2 2 2 2 2 2\n",
            " 2 2 2 2 2 2 2 2 2 2 2 2 2 2 2 2 2 2 2 2 2 2 2 2 2 2 2 2 2 2 2 2 2 2 2 2 2\n",
            " 2 2]\n",
            "(150,)\n",
            "['setosa' 'versicolor' 'virginica']\n"
          ],
          "name": "stdout"
        }
      ]
    },
    {
      "cell_type": "code",
      "metadata": {
        "id": "ooVV5XCZL2R9",
        "outputId": "bbc731ff-eebd-4c26-95dc-5beb07c11696",
        "colab": {
          "base_uri": "https://localhost:8080/"
        }
      },
      "source": [
        "#数値が書かれた150x4の二次元配列を学習用と予測用に振り分けて、どれが予測するデータの0,1,2に対応するか検証する \n",
        "# formatを日本語でも中央に揃えてくれるように変更\n",
        "pd.set_option('display.unicode.east_asian_width',True)\n",
        "# 配列をデータフレームに変換するpandas\n",
        "# data：DataFrameの第一引数、第二引数にカラム名\n",
        "dataset_data = pd.DataFrame(dataset.data, columns=[\"がく片の長さ\",\"がく片の幅\",\"花びらの長さ\",\"花びらの幅\"])\n",
        "dataset_target = pd.DataFrame(dataset.target, columns=[\"花の種類\"])\n",
        "# 行axis=0,列axis=1\n",
        "# 今回は列（横）に花の種類を追加したいのでaxis=1\n",
        "dataset_all = pd.concat([dataset_data,dataset_target],axis=1)\n",
        "print(dataset_all.head(10))\n",
        "# 平均値や最小値などすべてを表示してくれる便利なメソッド\n",
        "print(dataset_all.describe())\n"
      ],
      "execution_count": 17,
      "outputs": [
        {
          "output_type": "stream",
          "text": [
            "   がく片の長さ  がく片の幅  花びらの長さ  花びらの幅  花の種類\n",
            "0           5.1         3.5           1.4         0.2         0\n",
            "1           4.9         3.0           1.4         0.2         0\n",
            "2           4.7         3.2           1.3         0.2         0\n",
            "3           4.6         3.1           1.5         0.2         0\n",
            "4           5.0         3.6           1.4         0.2         0\n",
            "5           5.4         3.9           1.7         0.4         0\n",
            "6           4.6         3.4           1.4         0.3         0\n",
            "7           5.0         3.4           1.5         0.2         0\n",
            "8           4.4         2.9           1.4         0.2         0\n",
            "9           4.9         3.1           1.5         0.1         0\n",
            "       がく片の長さ  がく片の幅  花びらの長さ  花びらの幅    花の種類\n",
            "count    150.000000  150.000000    150.000000  150.000000  150.000000\n",
            "mean       5.843333    3.057333      3.758000    1.199333    1.000000\n",
            "std        0.828066    0.435866      1.765298    0.762238    0.819232\n",
            "min        4.300000    2.000000      1.000000    0.100000    0.000000\n",
            "25%        5.100000    2.800000      1.600000    0.300000    0.000000\n",
            "50%        5.800000    3.000000      4.350000    1.300000    1.000000\n",
            "75%        6.400000    3.300000      5.100000    1.800000    2.000000\n",
            "max        7.900000    4.400000      6.900000    2.500000    2.000000\n"
          ],
          "name": "stdout"
        }
      ]
    },
    {
      "cell_type": "code",
      "metadata": {
        "id": "9_I4UyNAQtqB",
        "outputId": "7509452a-1d88-47af-9689-03b23a88ebc2",
        "colab": {
          "base_uri": "https://localhost:8080/"
        }
      },
      "source": [
        "# train_test_split関数を使う\n",
        "# データセットのテストの比率を1/3 = 0.33\n",
        "data_train, data_test,target_train, target_test = train_test_split(dataset_data, dataset_target,test_size=0.33)\n",
        "\n",
        "print(data_test.head(10))"
      ],
      "execution_count": 28,
      "outputs": [
        {
          "output_type": "stream",
          "text": [
            "     がく片の長さ  がく片の幅  花びらの長さ  花びらの幅\n",
            "50            7.0         3.2           4.7         1.4\n",
            "27            5.2         3.5           1.5         0.2\n",
            "89            5.5         2.5           4.0         1.3\n",
            "124           6.7         3.3           5.7         2.1\n",
            "20            5.4         3.4           1.7         0.2\n",
            "5             5.4         3.9           1.7         0.4\n",
            "123           6.3         2.7           4.9         1.8\n",
            "87            6.3         2.3           4.4         1.3\n",
            "99            5.7         2.8           4.1         1.3\n",
            "117           7.7         3.8           6.7         2.2\n"
          ],
          "name": "stdout"
        }
      ]
    },
    {
      "cell_type": "code",
      "metadata": {
        "id": "_vFaeLxpZlUu",
        "outputId": "d2cc1256-7529-459b-fdc9-940a8c6463c6",
        "colab": {
          "base_uri": "https://localhost:8080/",
          "height": 312
        }
      },
      "source": [
        "# データを可視化する\n",
        "# がく片の長さ\n",
        "# print(target_train)\n",
        "plt.scatter(data_train[target_train[\"花の種類\"]==0][\"がく片の長さ\"],data_train[(target_train == 0).values][\"がく片の幅\"],label=\"setosa\",cmap=\"rgb\")\n",
        "plt.scatter(data_train[target_train[\"花の種類\"]==1][\"がく片の長さ\"],data_train[(target_train == 1).values][\"がく片の幅\"],label=\"setosa\",cmap=\"rgb\")\n",
        "plt.scatter(data_train[target_train[\"花の種類\"]==2][\"がく片の長さ\"],data_train[(target_train == 2).values][\"がく片の幅\"],label=\"setosa\",cmap=\"rgb\")\n",
        "\n",
        "# x軸の範囲指定\n",
        "plt.xlim(3,9)\n",
        "# y軸の範囲指定\n",
        "plt.ylim(1,5)\n",
        "# x軸の名前\n",
        "plt.xlabel(\"Length of sepal\")\n",
        "# y軸の名前\n",
        "plt.ylabel(\"Width of sepal\")\n",
        "\n",
        "# グラフのタイトル\n",
        "plt.title(\"Lenth and width of sepal\")\n",
        "# 凡例を出力\n",
        "plt.legend()\n"
      ],
      "execution_count": 32,
      "outputs": [
        {
          "output_type": "execute_result",
          "data": {
            "text/plain": [
              "<matplotlib.legend.Legend at 0x7f3649de2be0>"
            ]
          },
          "metadata": {
            "tags": []
          },
          "execution_count": 32
        },
        {
          "output_type": "display_data",
          "data": {
            "image/png": "[encoded data removed]",
            "text/plain": [
              "<Figure size 432x288 with 1 Axes>"
            ]
          },
          "metadata": {
            "tags": [],
            "needs_background": "light"
          }
        }
      ]
    },
    {
      "cell_type": "code",
      "metadata": {
        "id": "qREui_Gw89Ze",
        "outputId": "57a26319-db29-411f-e419-ef25c8ebdfab",
        "colab": {
          "base_uri": "https://localhost:8080/",
          "height": 312
        }
      },
      "source": [
        "# 花びら\n",
        "plt.scatter(data_train[target_train[\"花の種類\"]==0][\"花びらの長さ\"],data_train[(target_train == 0).values][\"花びらの幅\"],label=\"setosa\",cmap=\"rgb\")\n",
        "plt.scatter(data_train[target_train[\"花の種類\"]==1][\"花びらの長さ\"],data_train[(target_train == 1).values][\"花びらの幅\"],label=\"setosa\",cmap=\"rgb\")\n",
        "plt.scatter(data_train[target_train[\"花の種類\"]==2][\"花びらの長さ\"],data_train[(target_train == 2).values][\"花びらの幅\"],label=\"setosa\",cmap=\"rgb\")\n",
        "\n",
        "plt.xlim(0,8)\n",
        "plt.ylim(0,4)\n",
        "\n",
        "plt.xlabel(\"Length of petal\")\n",
        "plt.ylabel(\"Width of petal\")\n",
        "\n",
        "plt.title(\"Relation between length and width of petal\")\n",
        "plt.legend()"
      ],
      "execution_count": 34,
      "outputs": [
        {
          "output_type": "execute_result",
          "data": {
            "text/plain": [
              "<matplotlib.legend.Legend at 0x7f3649877860>"
            ]
          },
          "metadata": {
            "tags": []
          },
          "execution_count": 34
        },
        {
          "output_type": "display_data",
          "data": {
            "image/png": "[encoded data removed]",
            "text/plain": [
              "<Figure size 432x288 with 1 Axes>"
            ]
          },
          "metadata": {
            "tags": [],
            "needs_background": "light"
          }
        }
      ]
    },
    {
      "cell_type": "code",
      "metadata": {
        "id": "gVORl31b9ceh"
      },
      "source": [
        "# 機械学習アルゴリズムの実装\n"
      ],
      "execution_count": null,
      "outputs": []
    }
  ]
}